{
 "cells": [
  {
   "cell_type": "code",
   "execution_count": 5,
   "metadata": {
    "tags": [
     "hide-cell"
    ]
   },
   "outputs": [],
   "source": [
    "import pandas as pd"
   ]
  },
  {
   "cell_type": "markdown",
   "metadata": {},
   "source": [
    "Kreditkonditionen"
   ]
  },
  {
   "cell_type": "code",
   "execution_count": 6,
   "metadata": {},
   "outputs": [],
   "source": [
    "Primary = 20000\n",
    "Raten = [2000, 0, 0, 0, 0, 2000, 16000]\n",
    "Zinssatz = 0.08"
   ]
  },
  {
   "cell_type": "code",
   "execution_count": 7,
   "metadata": {
    "tags": [
     "hide-cell"
    ]
   },
   "outputs": [],
   "source": [
    "if sum(Raten) != Primary:\n",
    "    raise ValueError('Summe der Raten ergeben nicht Primary!')"
   ]
  },
  {
   "cell_type": "code",
   "execution_count": 8,
   "metadata": {},
   "outputs": [],
   "source": [
    "Jahre = list(range(1, len(Raten)+1))"
   ]
  },
  {
   "cell_type": "markdown",
   "metadata": {},
   "source": [
    "Zinsstrukturkurve"
   ]
  },
  {
   "cell_type": "code",
   "execution_count": 9,
   "metadata": {},
   "outputs": [],
   "source": [
    "Zinsstruktur = [0.02,\n",
    "                0.03,\n",
    "                0.04,\n",
    "                0.05,\n",
    "                0.06,\n",
    "                0.07,\n",
    "                0.08]"
   ]
  },
  {
   "cell_type": "code",
   "execution_count": 10,
   "metadata": {},
   "outputs": [],
   "source": [
    "Cashflow = [-Primary] + [Raten[i-1] + (Primary-sum(Raten[:i-1]))*Zinssatz for i in Jahre] "
   ]
  },
  {
   "cell_type": "markdown",
   "metadata": {},
   "source": [
    "Ausgleichs-Cashflows"
   ]
  },
  {
   "cell_type": "code",
   "execution_count": 11,
   "metadata": {},
   "outputs": [],
   "source": [
    "Rest = 0\n",
    "ausgleichs_cashflows = []\n",
    "for Jahr in reversed(Jahre):\n",
    "    Rest = sum([ausgleichs_cashflow[Jahr] for ausgleichs_cashflow in ausgleichs_cashflows])\n",
    "    cashflow_year = Cashflow[Jahr]\n",
    "    markt_zins = Zinsstruktur[Jahr-1]\n",
    "    ausgleichswert = cashflow_year + Rest\n",
    "    ausgleichs_cashflow = [ausgleichswert/ (1+markt_zins)] + (Jahr-1)*[-markt_zins*ausgleichswert/ (1+markt_zins)] + [-ausgleichswert]\n",
    "    ausgleichs_cashflows.append(ausgleichs_cashflow)"
   ]
  },
  {
   "cell_type": "code",
   "execution_count": 12,
   "metadata": {},
   "outputs": [],
   "source": [
    "for cf in ausgleichs_cashflows:\n",
    "    while len(cf) < len(Jahre)+1:\n",
    "        cf.append(0)"
   ]
  },
  {
   "cell_type": "code",
   "execution_count": 10,
   "metadata": {},
   "outputs": [],
   "source": [
    "Gesamt_Zahlungsstrom = pd.DataFrame(data={'Jahr {}'.format(Jahr): [Cashflow[Jahr]] + [ausgleichs_cashflows[x][Jahr] for x in range(0, len(Jahre))] for Jahr in [0] + Jahre})"
   ]
  },
  {
   "cell_type": "code",
   "execution_count": 11,
   "metadata": {},
   "outputs": [],
   "source": [
    "Gesamt_Zahlungsstrom.index = ['Kunden Zahlungsstrom'] + ['Ausgleichsstrom {}'.format(i) for i in Jahre]"
   ]
  },
  {
   "cell_type": "code",
   "execution_count": 12,
   "metadata": {},
   "outputs": [],
   "source": [
    "Gesamt_Zahlungsstrom = Gesamt_Zahlungsstrom.round(2)"
   ]
  },
  {
   "cell_type": "code",
   "execution_count": 13,
   "metadata": {},
   "outputs": [
    {
     "data": {
      "text/html": [
       "<div>\n",
       "<style scoped>\n",
       "    .dataframe tbody tr th:only-of-type {\n",
       "        vertical-align: middle;\n",
       "    }\n",
       "\n",
       "    .dataframe tbody tr th {\n",
       "        vertical-align: top;\n",
       "    }\n",
       "\n",
       "    .dataframe thead th {\n",
       "        text-align: right;\n",
       "    }\n",
       "</style>\n",
       "<table border=\"1\" class=\"dataframe\">\n",
       "  <thead>\n",
       "    <tr style=\"text-align: right;\">\n",
       "      <th></th>\n",
       "      <th>Jahr 0</th>\n",
       "      <th>Jahr 1</th>\n",
       "      <th>Jahr 2</th>\n",
       "      <th>Jahr 3</th>\n",
       "      <th>Jahr 4</th>\n",
       "      <th>Jahr 5</th>\n",
       "      <th>Jahr 6</th>\n",
       "      <th>Jahr 7</th>\n",
       "    </tr>\n",
       "  </thead>\n",
       "  <tbody>\n",
       "    <tr>\n",
       "      <th>Kunden Zahlungsstrom</th>\n",
       "      <td>-20000.00</td>\n",
       "      <td>3600.00</td>\n",
       "      <td>1440.00</td>\n",
       "      <td>1440.00</td>\n",
       "      <td>1440.00</td>\n",
       "      <td>1440.00</td>\n",
       "      <td>3440.0</td>\n",
       "      <td>17280.0</td>\n",
       "    </tr>\n",
       "    <tr>\n",
       "      <th>Ausgleichsstrom 1</th>\n",
       "      <td>16000.00</td>\n",
       "      <td>-1280.00</td>\n",
       "      <td>-1280.00</td>\n",
       "      <td>-1280.00</td>\n",
       "      <td>-1280.00</td>\n",
       "      <td>-1280.00</td>\n",
       "      <td>-1280.0</td>\n",
       "      <td>-17280.0</td>\n",
       "    </tr>\n",
       "    <tr>\n",
       "      <th>Ausgleichsstrom 2</th>\n",
       "      <td>2018.69</td>\n",
       "      <td>-141.31</td>\n",
       "      <td>-141.31</td>\n",
       "      <td>-141.31</td>\n",
       "      <td>-141.31</td>\n",
       "      <td>-141.31</td>\n",
       "      <td>-2160.0</td>\n",
       "      <td>0.0</td>\n",
       "    </tr>\n",
       "    <tr>\n",
       "      <th>Ausgleichsstrom 3</th>\n",
       "      <td>17.63</td>\n",
       "      <td>-1.06</td>\n",
       "      <td>-1.06</td>\n",
       "      <td>-1.06</td>\n",
       "      <td>-1.06</td>\n",
       "      <td>-18.69</td>\n",
       "      <td>0.0</td>\n",
       "      <td>0.0</td>\n",
       "    </tr>\n",
       "    <tr>\n",
       "      <th>Ausgleichsstrom 4</th>\n",
       "      <td>16.79</td>\n",
       "      <td>-0.84</td>\n",
       "      <td>-0.84</td>\n",
       "      <td>-0.84</td>\n",
       "      <td>-17.63</td>\n",
       "      <td>0.00</td>\n",
       "      <td>0.0</td>\n",
       "      <td>0.0</td>\n",
       "    </tr>\n",
       "    <tr>\n",
       "      <th>Ausgleichsstrom 5</th>\n",
       "      <td>16.15</td>\n",
       "      <td>-0.65</td>\n",
       "      <td>-0.65</td>\n",
       "      <td>-16.79</td>\n",
       "      <td>0.00</td>\n",
       "      <td>0.00</td>\n",
       "      <td>0.0</td>\n",
       "      <td>0.0</td>\n",
       "    </tr>\n",
       "    <tr>\n",
       "      <th>Ausgleichsstrom 6</th>\n",
       "      <td>15.68</td>\n",
       "      <td>-0.47</td>\n",
       "      <td>-16.15</td>\n",
       "      <td>0.00</td>\n",
       "      <td>0.00</td>\n",
       "      <td>0.00</td>\n",
       "      <td>0.0</td>\n",
       "      <td>0.0</td>\n",
       "    </tr>\n",
       "    <tr>\n",
       "      <th>Ausgleichsstrom 7</th>\n",
       "      <td>2133.02</td>\n",
       "      <td>-2175.68</td>\n",
       "      <td>0.00</td>\n",
       "      <td>0.00</td>\n",
       "      <td>0.00</td>\n",
       "      <td>0.00</td>\n",
       "      <td>0.0</td>\n",
       "      <td>0.0</td>\n",
       "    </tr>\n",
       "  </tbody>\n",
       "</table>\n",
       "</div>"
      ],
      "text/plain": [
       "                        Jahr 0   Jahr 1   Jahr 2   Jahr 3   Jahr 4   Jahr 5  \\\n",
       "Kunden Zahlungsstrom -20000.00  3600.00  1440.00  1440.00  1440.00  1440.00   \n",
       "Ausgleichsstrom 1     16000.00 -1280.00 -1280.00 -1280.00 -1280.00 -1280.00   \n",
       "Ausgleichsstrom 2      2018.69  -141.31  -141.31  -141.31  -141.31  -141.31   \n",
       "Ausgleichsstrom 3        17.63    -1.06    -1.06    -1.06    -1.06   -18.69   \n",
       "Ausgleichsstrom 4        16.79    -0.84    -0.84    -0.84   -17.63     0.00   \n",
       "Ausgleichsstrom 5        16.15    -0.65    -0.65   -16.79     0.00     0.00   \n",
       "Ausgleichsstrom 6        15.68    -0.47   -16.15     0.00     0.00     0.00   \n",
       "Ausgleichsstrom 7      2133.02 -2175.68     0.00     0.00     0.00     0.00   \n",
       "\n",
       "                      Jahr 6   Jahr 7  \n",
       "Kunden Zahlungsstrom  3440.0  17280.0  \n",
       "Ausgleichsstrom 1    -1280.0 -17280.0  \n",
       "Ausgleichsstrom 2    -2160.0      0.0  \n",
       "Ausgleichsstrom 3        0.0      0.0  \n",
       "Ausgleichsstrom 4        0.0      0.0  \n",
       "Ausgleichsstrom 5        0.0      0.0  \n",
       "Ausgleichsstrom 6        0.0      0.0  \n",
       "Ausgleichsstrom 7        0.0      0.0  "
      ]
     },
     "execution_count": 13,
     "metadata": {},
     "output_type": "execute_result"
    }
   ],
   "source": [
    "Gesamt_Zahlungsstrom"
   ]
  },
  {
   "cell_type": "markdown",
   "metadata": {},
   "source": [
    "Gewinne"
   ]
  },
  {
   "cell_type": "code",
   "execution_count": 14,
   "metadata": {},
   "outputs": [
    {
     "data": {
      "text/plain": [
       "Jahr 0    217.96\n",
       "Jahr 1     -0.01\n",
       "Jahr 2     -0.01\n",
       "Jahr 3     -0.00\n",
       "Jahr 4     -0.00\n",
       "Jahr 5      0.00\n",
       "Jahr 6      0.00\n",
       "Jahr 7      0.00\n",
       "dtype: float64"
      ]
     },
     "execution_count": 14,
     "metadata": {},
     "output_type": "execute_result"
    }
   ],
   "source": [
    "Gesamt_Zahlungsstrom.sum(numeric_only=True).round(2)"
   ]
  },
  {
   "cell_type": "code",
   "execution_count": null,
   "metadata": {},
   "outputs": [],
   "source": []
  }
 ],
 "metadata": {
  "kernelspec": {
   "display_name": "Python 3",
   "language": "python",
   "name": "python3"
  },
  "language_info": {
   "codemirror_mode": {
    "name": "ipython",
    "version": 3
   },
   "file_extension": ".py",
   "mimetype": "text/x-python",
   "name": "python",
   "nbconvert_exporter": "python",
   "pygments_lexer": "ipython3",
   "version": "3.8.3"
  },
  "widgets": {
   "application/vnd.jupyter.widget-state+json": {
    "state": {},
    "version_major": 2,
    "version_minor": 0
   }
  }
 },
 "nbformat": 4,
 "nbformat_minor": 4
}
